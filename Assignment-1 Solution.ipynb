{
 "cells": [
  {
   "attachments": {},
   "cell_type": "markdown",
   "metadata": {},
   "source": [
    "# Artificial and Computational Intelligence "
   ]
  },
  {
   "cell_type": "markdown",
   "metadata": {},
   "source": [
    "## Problem solving by Uninformed & Informed Search"
   ]
  },
  {
   "cell_type": "markdown",
   "metadata": {},
   "source": [
    "Things to follow\n",
    "1.\tUse appropriate data structures to represent the graph and the path using python libraries\n",
    "2.\tProvide proper documentation\n",
    "3.\tFind the path and print it"
   ]
  },
  {
   "cell_type": "markdown",
   "metadata": {},
   "source": [
    "Coding begins here"
   ]
  },
  {
   "cell_type": "markdown",
   "metadata": {},
   "source": [
    "### 1.\tDefine the environment in the following block"
   ]
  },
  {
   "cell_type": "markdown",
   "metadata": {},
   "source": [
    "List the PEAS decription of the problem here in this markdown block"
   ]
  },
  {
   "cell_type": "markdown",
   "metadata": {},
   "source": [
    "Design the agent as PSA Agent(Problem Solving Agent) \n",
    "Clear Initial data structures to define the graph and variable declarations is expected \n",
    "IMPORTATANT: Write distinct code block as below"
   ]
  },
  {
   "cell_type": "code",
   "execution_count": 1,
   "metadata": {},
   "outputs": [],
   "source": [
    "#Code Block : Set Initial State (Must handle dynamic inputs)\n",
    "\n",
    "import numpy as np \n",
    "graph={}\n",
    "h={}\n",
    "n=input(\"enter the number of node \")\n",
    "for i in range(int(n)):\n",
    "    childs=[]\n",
    "    av_h_c=0\n",
    "    av_h_t=0\n",
    "    name=input(\"enter node name \")\n",
    "    ch=input(\"enter the nuber of childs\")\n",
    "    for c in range(int(ch)):\n",
    "        namech=input(\"enter the name of child \"+str(c))\n",
    "        cost=int(input(\"enter the cost of child \"+str(namech)))\n",
    "        time=int(input(\"enter the time of child \"+str(namech)))\n",
    "        childs.append((namech,cost,time))\n",
    "        graph[name]=childs\n",
    "\n",
    "    for i in range(len(childs)):\n",
    "      av_h_c =av_h_c+int(childs[i][1])\n",
    "      av_h_t =av_h_t+int(childs[i][2])\n",
    "    try:                                               \n",
    "        av_h_c=round((av_h_c/len(childs))* (np.random.randint(7)/3))\n",
    "        av_h_t=round((av_h_t/len(childs))* (np.random.randint(7)/3))\n",
    "        h[name]=(av_h_c,av_h_t)\n",
    "    except:\n",
    "      h[name]=(0,0)"
   ]
  },
  {
   "cell_type": "markdown",
   "metadata": {},
   "source": [
    "\n",
    "### question ??   graph and h"
   ]
  },
  {
   "cell_type": "code",
   "execution_count": 2,
   "metadata": {},
   "outputs": [
    {
     "name": "stdout",
     "output_type": "stream",
     "text": [
      "{'TU': [('IN', 40, 3), ('SY', 15, 1), ('JO', 20, 2)], 'SY': [('IQ', 10, 2), ('JO', 12, 1)], 'JO': [('SY', 12, 1), ('IQ', 27, 3), ('SA', 16, 2)], 'IN': [('KW', 60, 3)], 'SA': [('UAE', 32, 2), ('IQ', 44, 3)], 'IQ': [('KW', 30, 3)], 'UAE': [('KW', 50, 2)]}\n",
      "{'TU': (42, 3), 'SY': (0, 2), 'JO': (37, 1), 'IN': (100, 6), 'SA': (63, 2), 'IQ': (10, 6), 'UAE': (83, 1), 'KW': (0, 0)}\n"
     ]
    }
   ],
   "source": [
    "#Code Block : Set the matrix for transition & cost (as relevant for the given problem)\n",
    "print(graph)\n",
    "print(h)"
   ]
  },
  {
   "cell_type": "code",
   "execution_count": 3,
   "metadata": {},
   "outputs": [],
   "source": [
    "#Code Block : Write function to design the Transition Model/Successor function. Ideally this would be called while search algorithms are implemented\n",
    "def Successor_function(graph,node):\n",
    "    return graph.get(node,[])"
   ]
  },
  {
   "cell_type": "code",
   "execution_count": 4,
   "metadata": {},
   "outputs": [],
   "source": [
    "#Code block : Write fucntion to handle goal test (Must handle dynamic inputs). Ideally this would be called while search algorithms are implemented\n",
    "def goal_test(goal,node):\n",
    "    if goal ==node:\n",
    "        return True\n",
    "    else:\n",
    "        return False"
   ]
  },
  {
   "cell_type": "markdown",
   "metadata": {},
   "source": [
    "### 2.\tDefinition of Algorithm 1 (Mention the Name of the algorithm here eg., UNINFORMED SEARCH - BREADTH FIRST SEARCH)"
   ]
  },
  {
   "cell_type": "code",
   "execution_count": 13,
   "metadata": {},
   "outputs": [],
   "source": [
    "#Code Block : Function for algorithm 1 implementation\n",
    "space_u=1\n",
    "def ucs(graph,start,goal):\n",
    "    global space_u\n",
    "    visited=[]\n",
    "    queue=[[(start,0,0)]]\n",
    "    while queue:\n",
    "        #print(\"Q before sorting \")\n",
    "        #print(queue)\n",
    "        queue.sort(key=path_cost_ucs)\n",
    "        #print(\" Q sorted \")\n",
    "        #print(queue)\n",
    "        path=queue.pop(0)\n",
    "        #print(\"path\")\n",
    "        #print(path)\n",
    "        node=path[-1][0]\n",
    "        if node in visited:\n",
    "            continue\n",
    "        if goal_test(goal,node):\n",
    "            print(\"Soltion is\" , path)\n",
    "            print(\"the cost is \",path_cost_ucs(path)[0])\n",
    "            print(\"the time is \",path_cost_ucs(path)[1]/2)\n",
    "            return \n",
    "        else:\n",
    "            adjacent_nodrs=Successor_function(graph,node)\n",
    "          #  print(\"Q                       \")\n",
    "         #   print(queue )\n",
    "            for (node2,cost,time) in adjacent_nodrs:\n",
    "                new_path=path.copy()\n",
    "                \n",
    "                new_path.append((node2,cost,time))\n",
    "                #print(\"new_path\")\n",
    "               # print(new_path)\n",
    "                queue.append(new_path)\n",
    "                space_u+=1\n",
    "\n",
    "def path_cost_ucs(path):\n",
    "    total_cost =0\n",
    "    total_time=0\n",
    "    for (node,cost,time) in path:\n",
    "        total_cost+=int(cost)\n",
    "        total_time+=int(time)\n",
    "    return  total_cost,total_time*2 , path[-1][0]\n",
    "\n"
   ]
  },
  {
   "cell_type": "markdown",
   "metadata": {},
   "source": [
    "### 3.\tDefinition of Algorithm 2 (Mention the Name of the algorithm here eg., INFORMED SEARCH - A*)"
   ]
  },
  {
   "cell_type": "code",
   "execution_count": 9,
   "metadata": {},
   "outputs": [],
   "source": [
    "#Code Block : Function for algorithm 2 implementation\n",
    "space_a=1\n",
    "def a_star(graph,start,goal):\n",
    "    global space_a\n",
    "    visited=[]\n",
    "    queue=[[(start,0,0)]]\n",
    "    while queue:\n",
    "\n",
    "        queue.sort(key=path_a_cost)\n",
    "        #print(\" Q after sorted \")\n",
    "        #print(queue)\n",
    "        path=queue.pop(0)\n",
    "        node=path[-1][0]\n",
    "        if node in visited:\n",
    "            continue\n",
    "        if goal_test(goal,node):\n",
    "            print(\"Soltion is\" , path)\n",
    "            print(\"the cost is \",path_a_cost(path)[0])\n",
    "            print(\"the time is \",path_a_cost(path)[1]/2)\n",
    "            return \n",
    "        else:\n",
    "            adjacent_nodrs=Successor_function(graph,node)\n",
    "            for (node2,cost,time) in adjacent_nodrs:\n",
    "                new_path=path.copy()\n",
    "                \n",
    "                new_path.append((node2,cost,time))\n",
    "                queue.append(new_path)\n",
    "                space_a+=1\n",
    "\n",
    "def path_a_cost(path):\n",
    "    g_cost =0\n",
    "    g_time=0\n",
    "    for (node,cost,time) in path:\n",
    "        g_cost+=int(cost)\n",
    "        g_time+=int(time)\n",
    "\n",
    "    last_node= path[-1][0]\n",
    "    h_cost=int(h[last_node][0])\n",
    "    h_time=int(h[last_node][1])\n",
    "    f_cost=g_cost+h_cost\n",
    "    f_time=g_time+h_time\n",
    "\n",
    "\n",
    "    return f_cost, f_time*2 , last_node"
   ]
  },
  {
   "cell_type": "markdown",
   "metadata": {},
   "source": [
    "### DYNAMIC INPUT"
   ]
  },
  {
   "cell_type": "markdown",
   "metadata": {},
   "source": [
    "IMPORTANT : Dynamic Input must be got in this section. Display the possible states to choose from:\n",
    "This is applicable for all the relevent problems as mentioned in the question. "
   ]
  },
  {
   "cell_type": "code",
   "execution_count": 7,
   "metadata": {},
   "outputs": [],
   "source": [
    "#Code Block : Function & call to get inputs (start/end state)\n",
    "def s_and_e():\n",
    "    s=input(\"Enter Start State \")\n",
    "    e=input(\"Enter Gaol State \")\n",
    "    return s,e"
   ]
  },
  {
   "cell_type": "markdown",
   "metadata": {},
   "source": [
    "### 4.\tCalling the search algorithms\n",
    "(For bidirectional search in below sections first part can be used as per Hint provided. Under second section other combinations as per Hint or your choice of 2 algorithms can be called .As an analyst suggest suitable approximation in the comparitive analysis section)"
   ]
  },
  {
   "cell_type": "code",
   "execution_count": 14,
   "metadata": {},
   "outputs": [
    {
     "name": "stdout",
     "output_type": "stream",
     "text": [
      "Soltion is [('TU', 0, 0), ('SY', 15, 1), ('IQ', 10, 2), ('KW', 30, 3)]\n",
      "the cost is  55\n",
      "the time is  6.0\n"
     ]
    }
   ],
   "source": [
    "#Invoke algorithm 1 (Should Print the solution, path, cost etc., (As mentioned in the problem))\n",
    "s_e=s_and_e()\n",
    "ucs(graph,s_e[0],s_e[1])"
   ]
  },
  {
   "cell_type": "code",
   "execution_count": 10,
   "metadata": {},
   "outputs": [
    {
     "name": "stdout",
     "output_type": "stream",
     "text": [
      "Soltion is [('TU', 0, 0), ('SY', 15, 1), ('IQ', 10, 2), ('KW', 30, 3)]\n",
      "the cost is  55\n",
      "the time is  6.0\n"
     ]
    }
   ],
   "source": [
    "#Invoke algorithm 2 (Should Print the solution, path, cost etc., (As mentioned in the problem))\n",
    "a_star(graph,s_e[0],s_e[1])"
   ]
  },
  {
   "cell_type": "markdown",
   "metadata": {},
   "source": [
    "### 5.\tComparitive Analysis"
   ]
  },
  {
   "cell_type": "code",
   "execution_count": 15,
   "metadata": {},
   "outputs": [
    {
     "name": "stdout",
     "output_type": "stream",
     "text": [
      "Space complexity  32\n"
     ]
    }
   ],
   "source": [
    "#Code Block : Print the Time & Space complexity of algorithm 1 \n",
    "print(\"Space complexity \",space_u)\n"
   ]
  },
  {
   "cell_type": "code",
   "execution_count": 12,
   "metadata": {},
   "outputs": [
    {
     "name": "stdout",
     "output_type": "stream",
     "text": [
      "Space complexity  7\n"
     ]
    }
   ],
   "source": [
    "#Code Block : Print the Time & Space complexity of algorithm 2\n",
    "print(\"Space complexity \",space_a)\n"
   ]
  }
 ],
 "metadata": {
  "kernelspec": {
   "display_name": "Python 3.9.7 ('base')",
   "language": "python",
   "name": "python3"
  },
  "language_info": {
   "codemirror_mode": {
    "name": "ipython",
    "version": 3
   },
   "file_extension": ".py",
   "mimetype": "text/x-python",
   "name": "python",
   "nbconvert_exporter": "python",
   "pygments_lexer": "ipython3",
   "version": "3.9.7"
  },
  "vscode": {
   "interpreter": {
    "hash": "cfa209a60b05bb7b3a4bd572cc0a85db42ca4118e9cfc872212463b27a8af481"
   }
  }
 },
 "nbformat": 4,
 "nbformat_minor": 2
}
